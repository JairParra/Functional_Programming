{
 "cells": [
  {
   "cell_type": "markdown",
   "metadata": {},
   "source": [
    "# Going Functional in Python"
   ]
  },
  {
   "cell_type": "markdown",
   "metadata": {},
   "source": [
    "### What is Python? \n",
    "Python is an interpreted all-purpose, high-level, dynamically typed and garbage-collected programming language <a href=\"https://en.wikipedia.org/wiki/Python_(programming_language)#:~:text=Python%20is%20an%20interpreted%2C%20high,notable%20use%20of%20significant%20whitespace\"> (See this link)</a>. \n",
    "\n",
    "### Programming Paradigms\n",
    "Now, there are several <a href=\"https://en.wikipedia.org/wiki/Programming_paradigm\">programming paradigms</a>, among which perhaps the most common is the one we probably use most of the time, i.e. **imperative programming**. This means that we give precise instructions in a somehow sequential order, and alter values based on these instructions. Another paradigm is **object-oriented programming (OOP)**, in which everything is an object. The beautiful thing is, this is not all there is to it. In **functional programming**, everything is... guess what: a function! Although Python is not inherently functional, it does have a number of functional capabilities, some of which you may find yourself using on a daily-basis. In this notebook, I will explain some of the basics, along with other examples. Now, instead of giving more theory, let's learn through examples! "
   ]
  },
  {
   "cell_type": "markdown",
   "metadata": {},
   "source": [
    "## Imports"
   ]
  },
  {
   "cell_type": "code",
   "execution_count": 1,
   "metadata": {},
   "outputs": [],
   "source": [
    "import time\n",
    "import inspect"
   ]
  },
  {
   "cell_type": "markdown",
   "metadata": {},
   "source": [
    "## Factorial"
   ]
  },
  {
   "cell_type": "markdown",
   "metadata": {},
   "source": [
    "Let's start with a simple example: factorial. The factorial of a natural number is defined as: \n",
    "\n",
    "$$\n",
    "n! = n \\times (n-1) \\times (n-2) \\times \\dots \\times 1\n",
    "$$\n"
   ]
  },
  {
   "cell_type": "markdown",
   "metadata": {},
   "source": [
    "### By definition\n",
    "\n",
    "Of course, the first thing that comes into mind is the definition. This is not too slow, since its linear time. "
   ]
  },
  {
   "cell_type": "code",
   "execution_count": 2,
   "metadata": {},
   "outputs": [],
   "source": [
    "def slowfact(n:int): \n",
    "    \"\"\"\n",
    "    Calculates the factorial of n\n",
    "    \"\"\"\n",
    "    if n < 0: \n",
    "        raise ValueError(\"Must be a positive integer\") \n",
    "    if n == 0: \n",
    "        return 1 \n",
    "    else: \n",
    "        return n*slowfact(n-1) "
   ]
  },
  {
   "cell_type": "code",
   "execution_count": 3,
   "metadata": {},
   "outputs": [
    {
     "data": {
      "text/plain": [
       "24"
      ]
     },
     "execution_count": 3,
     "metadata": {},
     "output_type": "execute_result"
    }
   ],
   "source": [
    "slowfact(4)"
   ]
  },
  {
   "cell_type": "markdown",
   "metadata": {},
   "source": [
    "### Functional way\n",
    "\n",
    "This implementation illustrates one main idea of **tail-recursion**; that is, the recursion only takes place tail-most, with **only one recursive call**. "
   ]
  },
  {
   "cell_type": "code",
   "execution_count": 4,
   "metadata": {},
   "outputs": [],
   "source": [
    "# Clear version \n",
    "def fastfact(n:int): \n",
    "    \"\"\"\n",
    "    Calculates the fast factorial function of an argument \n",
    "    using only recursion. \n",
    "    @args: \n",
    "        - n: Input integer\n",
    "    \"\"\"\n",
    "    # define a helper function \n",
    "    def helper(m, acc): \n",
    "        \"\"\"\n",
    "        Uses an accumulator to perform the actual recursion. \n",
    "        @args: \n",
    "            - acc: acumulator variable \n",
    "        \"\"\"\n",
    "        if m == 0: \n",
    "            # Base case --> m is an acumulator \n",
    "            return acc\n",
    "        else: \n",
    "            # Make progress towards target, accumulate in \n",
    "            return helper(m-1,m*acc)\n",
    "        \n",
    "    return helper(n,1) "
   ]
  },
  {
   "cell_type": "markdown",
   "metadata": {},
   "source": [
    "So what changed? First, notice we are now using a `helper` function with an additional parameter: `acc`, an accumulator variable. As its name implies, now instead of putting the cumulative result outside , we **pass the result as an argument** to the next calls! Of course, always **make sure there is a well-defined base case**, otherwise you will end up with infinite loops. "
   ]
  },
  {
   "cell_type": "code",
   "execution_count": 5,
   "metadata": {},
   "outputs": [
    {
     "data": {
      "text/plain": [
       "24"
      ]
     },
     "execution_count": 5,
     "metadata": {},
     "output_type": "execute_result"
    }
   ],
   "source": [
    "fastfact(4)"
   ]
  },
  {
   "cell_type": "markdown",
   "metadata": {},
   "source": [
    "### Speed tests"
   ]
  },
  {
   "cell_type": "code",
   "execution_count": 6,
   "metadata": {},
   "outputs": [
    {
     "name": "stdout",
     "output_type": "stream",
     "text": [
      "Using slowfact\n",
      "0! = 1\n",
      "1! = 1\n",
      "2! = 2\n",
      "3! = 6\n",
      "4! = 24\n",
      "5! = 120\n",
      "6! = 720\n",
      "7! = 5040\n",
      "8! = 40320\n",
      "9! = 362880\n",
      "Using fastfact\n",
      "0! = 1\n",
      "1! = 1\n",
      "2! = 2\n",
      "3! = 6\n",
      "4! = 24\n",
      "5! = 120\n",
      "6! = 720\n",
      "7! = 5040\n",
      "8! = 40320\n",
      "9! = 362880\n",
      "slowfact took 2000800 miliseconds\n",
      "fasctfact took 2004500 miliseconds\n"
     ]
    }
   ],
   "source": [
    "# TEST \n",
    "print(\"Using slowfact\")\n",
    "for i in range(10): \n",
    "    print(\"{}!\".format(i) , \"=\", slowfact(i))\n",
    "\n",
    "print(\"Using fastfact\")\n",
    "for i in range(10): \n",
    "    print(\"{}!\".format(i) , \"=\", fastfact(i))\n",
    "\n",
    "# Compare speeds \n",
    "t0 = time.time_ns()\n",
    "slowfact(1000) \n",
    "t1 = time.time_ns() \n",
    "print(\"slowfact took {} miliseconds\".format(t1-t0)) \n",
    "\n",
    "# Compare speeds \n",
    "t0 = time.time_ns()\n",
    "fastfact(1000) \n",
    "t1 = time.time_ns() \n",
    "print(\"fasctfact took {} miliseconds\".format(t1-t0)) "
   ]
  },
  {
   "cell_type": "markdown",
   "metadata": {},
   "source": [
    "We see that the functional version is actually slightly slower. This is because we are storing an extra variable along the way. You will see with the next example, however, what a difference can functional programming do! "
   ]
  },
  {
   "cell_type": "markdown",
   "metadata": {},
   "source": [
    "## Fibonacci"
   ]
  },
  {
   "cell_type": "markdown",
   "metadata": {},
   "source": [
    "The fibonacci sequence is defined by  \n",
    "\n",
    "$$\n",
    "\\begin{cases} \n",
    "F_{0} = 0  \\\\\n",
    "F_{1} = 1  \\\\\n",
    "F_{n} = F_{n-1} + F_{n-2} \\;\\;\\;, n \\geq 2\n",
    "\\end{cases}\n",
    "$$\n",
    "\n",
    "How fast can we calculate the $n$-th fibonacci number? "
   ]
  },
  {
   "cell_type": "markdown",
   "metadata": {},
   "source": [
    "### Naive solution"
   ]
  },
  {
   "cell_type": "code",
   "execution_count": 7,
   "metadata": {},
   "outputs": [],
   "source": [
    "def fib(n:int): \n",
    "    \"\"\"\n",
    "    Calculates a fibonacci number using the definition\n",
    "    \"\"\"\n",
    "    # Base cases \n",
    "    if n == 0: \n",
    "        return 0 \n",
    "    elif n == 1: \n",
    "        return 1 \n",
    "    else: \n",
    "        # Recursive step \n",
    "        return fib(n-1) + fib(n-2) "
   ]
  },
  {
   "cell_type": "markdown",
   "metadata": {},
   "source": [
    "Using the definition, you can show that the following runs in $O(2^{n})$ time. Not very nice!! "
   ]
  },
  {
   "cell_type": "code",
   "execution_count": 8,
   "metadata": {},
   "outputs": [
    {
     "data": {
      "text/plain": [
       "832040"
      ]
     },
     "execution_count": 8,
     "metadata": {},
     "output_type": "execute_result"
    }
   ],
   "source": [
    "# Takes a while to compute!!\n",
    "fib(30)"
   ]
  },
  {
   "cell_type": "markdown",
   "metadata": {},
   "source": [
    "### Tail-recursive"
   ]
  },
  {
   "cell_type": "code",
   "execution_count": 9,
   "metadata": {},
   "outputs": [],
   "source": [
    "def fastfib(n:int): \n",
    "    \"\"\"\n",
    "    Calculates fibonacci using tail recursion \n",
    "    \"\"\" \n",
    "    def helper(m,a,b): \n",
    "        \"\"\" \n",
    "        Subfunction with extra parameters, actually carries the logic. \n",
    "        \"\"\"\n",
    "        if m == 0: \n",
    "            return a  # Base case 1  \n",
    "        elif m == 1: \n",
    "            return b # Base case 2 \n",
    "        else: \n",
    "            # Tail recursion step, note that we accumulate in the second argument \n",
    "            return helper(m-1, b, a+b) \n",
    "        \n",
    "    # return actual input on subroutine \n",
    "    return helper(n,0,1)"
   ]
  },
  {
   "cell_type": "markdown",
   "metadata": {},
   "source": [
    "Let's see what changed: once again we are using a helper function: we essentially make recursive calls by passing the second parameter as the new `a`, while on the right accumulate the result so far. Surprisingly enough, this will produce the $n$-th fibonacci number in linear time! "
   ]
  },
  {
   "cell_type": "code",
   "execution_count": 10,
   "metadata": {},
   "outputs": [
    {
     "data": {
      "text/plain": [
       "832040"
      ]
     },
     "execution_count": 10,
     "metadata": {},
     "output_type": "execute_result"
    }
   ],
   "source": [
    "# way faster! \n",
    "fastfib(30)"
   ]
  },
  {
   "cell_type": "markdown",
   "metadata": {},
   "source": [
    "### Bonus: dynamic programming"
   ]
  },
  {
   "cell_type": "code",
   "execution_count": 11,
   "metadata": {},
   "outputs": [],
   "source": [
    "# BONUS: Using dynamic programming \n",
    "def dynamicfib(n:int): \n",
    "    \"\"\"\n",
    "    Calculates the fibonacci using dynamic programming \n",
    "    \"\"\"\n",
    "    # Create a lookup dictionary \n",
    "    fibs = {} \n",
    "    \n",
    "    # Hardcode base cases\n",
    "    fibs[0] = 0 \n",
    "    fibs[1] = 1 \n",
    "    \n",
    "    # Loop through the range of input n  \n",
    "    for i in range(n+1): \n",
    "        # Check whether current fibonacci has been calculated; \n",
    "        # if not, then calculate, else ignore. \n",
    "        if i not in fibs.keys(): \n",
    "            fibs[i] = fibs[i-1] + fibs[i-2] \n",
    "            \n",
    "    return fibs[n]"
   ]
  },
  {
   "cell_type": "markdown",
   "metadata": {},
   "source": [
    "**Dynamic programming** is another programming technique, in which the idea is to store results that will be using again in a table, instead of re-computing it. The disadvantage is that this uses extra space. In this case, we use a loop and a dictionary to store the results. Also runs in $O(1)$ time, however! "
   ]
  },
  {
   "cell_type": "code",
   "execution_count": 12,
   "metadata": {},
   "outputs": [
    {
     "data": {
      "text/plain": [
       "832040"
      ]
     },
     "execution_count": 12,
     "metadata": {},
     "output_type": "execute_result"
    }
   ],
   "source": [
    "dynamicfib(30)"
   ]
  },
  {
   "cell_type": "markdown",
   "metadata": {},
   "source": [
    "### Which one is faster? "
   ]
  },
  {
   "cell_type": "code",
   "execution_count": 13,
   "metadata": {},
   "outputs": [
    {
     "name": "stdout",
     "output_type": "stream",
     "text": [
      "832040\n",
      "fib took 354970100 nanoseconds\n",
      "832040\n",
      "fastfib took 1001300 nanoseconds\n",
      "832040\n",
      "dynamicfib took 0 nanoseconds\n"
     ]
    }
   ],
   "source": [
    "# Compare speeds \n",
    "t0 = time.time_ns()\n",
    "print(fib(30) )\n",
    "t1 = time.time_ns() \n",
    "print(\"fib took {} nanoseconds\".format(t1-t0)) \n",
    "\n",
    "# Compare speeds \n",
    "t0 = time.time_ns()\n",
    "print(fastfib(30) )\n",
    "t1 = time.time_ns() \n",
    "print(\"fastfib took {} nanoseconds\".format(t1-t0)) \n",
    "\n",
    "# Compare speeds \n",
    "t0 = time.time_ns()\n",
    "print(dynamicfib(30) )\n",
    "t1 = time.time_ns() \n",
    "print(\"dynamicfib took {} nanoseconds\".format(t1-t0)) "
   ]
  },
  {
   "cell_type": "markdown",
   "metadata": {},
   "source": [
    "That's a **massive** time difference between the naive implementation versus the functional and dynamic ones! "
   ]
  },
  {
   "cell_type": "markdown",
   "metadata": {},
   "source": [
    "## Exponentiation"
   ]
  },
  {
   "cell_type": "markdown",
   "metadata": {},
   "source": [
    "Here's another interesting problem: given an integer $x$, how fast can we compute $x^{m}$, where $m \\geq 0$ (for simplicity)? \n",
    "That is, \n",
    "\n",
    "$$\n",
    "x^{m} = \\prod_{i=1}^{m} (x)\n",
    "$$"
   ]
  },
  {
   "cell_type": "markdown",
   "metadata": {},
   "source": [
    "### Naive solution"
   ]
  },
  {
   "cell_type": "code",
   "execution_count": 14,
   "metadata": {},
   "outputs": [],
   "source": [
    "def exp(n:int, exp:int): \n",
    "    \"\"\" \n",
    "    Performs exponentiation using the definition. \n",
    "    We ignore case in which exponent is negative for simplicity. \n",
    "    \"\"\" \n",
    "    for i in range(1,exp): \n",
    "        n = n*n \n",
    "        \n",
    "    return n "
   ]
  },
  {
   "cell_type": "code",
   "execution_count": 15,
   "metadata": {},
   "outputs": [
    {
     "data": {
      "text/plain": [
       "256"
      ]
     },
     "execution_count": 15,
     "metadata": {},
     "output_type": "execute_result"
    }
   ],
   "source": [
    "exp(2,4)"
   ]
  },
  {
   "cell_type": "code",
   "execution_count": 16,
   "metadata": {
    "scrolled": true
   },
   "outputs": [],
   "source": [
    "# quite slow! \n",
    "_ = exp(2,30)"
   ]
  },
  {
   "cell_type": "markdown",
   "metadata": {},
   "source": [
    "### Lambda functions"
   ]
  },
  {
   "cell_type": "markdown",
   "metadata": {},
   "source": [
    "The lambda functions in python can be seen as shorthands for \"relatively simple\" functions. The syntax is as follows: \n",
    "\n",
    "```python\n",
    "variable = lambda x1, x2, ... ,xn: f(x1, x2, ... ,xn)\n",
    "```\n",
    "\n",
    "where `f()` is the actual implementation of what you want your function to do. For example, we can define a function to determine whether a number is odd as follows: "
   ]
  },
  {
   "cell_type": "code",
   "execution_count": 17,
   "metadata": {},
   "outputs": [
    {
     "name": "stdout",
     "output_type": "stream",
     "text": [
      "100 is even:  True\n"
     ]
    }
   ],
   "source": [
    "even = lambda x: x % 2 == 0 \n",
    "print(\"100 is even: \", even(100))"
   ]
  },
  {
   "cell_type": "markdown",
   "metadata": {},
   "source": [
    "Of course, nothing stops us from passing multiple parameters! "
   ]
  },
  {
   "cell_type": "code",
   "execution_count": 18,
   "metadata": {},
   "outputs": [
    {
     "data": {
      "text/plain": [
       "17"
      ]
     },
     "execution_count": 18,
     "metadata": {},
     "output_type": "execute_result"
    }
   ],
   "source": [
    "myfun = lambda x,y,z: x if y > z else x+y+z \n",
    "myfun(10,3,4)"
   ]
  },
  {
   "cell_type": "markdown",
   "metadata": {},
   "source": [
    "### Russian Peasant Exponentiation\n",
    "\n",
    "If anybody knows why this is called this way, let me know. The idea is as follows: \n",
    "\n",
    "$$\n",
    "x^{m} = \n",
    "\\begin{cases} \n",
    "x * x^{m-1} &, \\text{if } m \\text{ is odd}, \\\\ \n",
    "x^{m/2} * x^{m/2} &, \\text{if } m \\text{ is even}, \n",
    "\\end{cases}\n",
    "$$\n",
    "\n",
    "Therefore we can pretty much reduce the computations by half at each time! That is, approximately $O(log_{2}(n))$ time! "
   ]
  },
  {
   "cell_type": "code",
   "execution_count": 19,
   "metadata": {},
   "outputs": [],
   "source": [
    "# helper functions \n",
    "even = lambda x: x % 2 == 0 \n",
    "odd = lambda x: x % 2 == 1 \n",
    "\n",
    "def rpe_exp(x:int, m:int): \n",
    "    \"\"\" \n",
    "    Calculates exponential using Russian Peasant Exponentiation algorithm. \n",
    "    @args: \n",
    "        - x: base integer \n",
    "        - m: power \n",
    "    \"\"\" \n",
    "    if x == 0: \n",
    "        return 0 \n",
    "    elif m == 0: \n",
    "        return 1 \n",
    "    else: \n",
    "        if odd(m): \n",
    "            # if power is odd, recurse on even power \n",
    "            # x^(m+1) = x*x^{m}  // m is even now \n",
    "            return x * rpe_exp(x,m-1) \n",
    "        else: \n",
    "            # if power is even, can calculate only on one part, then return the product! \n",
    "            # note we only need half the calls in this case \n",
    "            temp = rpe_exp(x,m/2) \n",
    "            return temp*temp "
   ]
  },
  {
   "cell_type": "code",
   "execution_count": 20,
   "metadata": {},
   "outputs": [
    {
     "data": {
      "text/plain": [
       "256"
      ]
     },
     "execution_count": 20,
     "metadata": {},
     "output_type": "execute_result"
    }
   ],
   "source": [
    "exp(2,4)"
   ]
  },
  {
   "cell_type": "code",
   "execution_count": 21,
   "metadata": {},
   "outputs": [],
   "source": [
    "# supper fast! \n",
    "_ = rpe_exp(2,30)"
   ]
  },
  {
   "cell_type": "markdown",
   "metadata": {},
   "source": [
    "### Tail-recursive Russian Peasant Exponentiation\n",
    "\n",
    "Can we do even faster? Yes we can! using the rpe algorithm + tail recursion. "
   ]
  },
  {
   "cell_type": "code",
   "execution_count": 22,
   "metadata": {},
   "outputs": [],
   "source": [
    "def fast_rpe_exp(x:int, m:int): \n",
    "    \"\"\"\n",
    "    Calculates exponential using the rpe algorithm , but using Tail-recursion\n",
    "    \"\"\" \n",
    "    def helper(x, m, acc): \n",
    "        \"\"\"\n",
    "        @args: \n",
    "            - x: base \n",
    "            - m: power \n",
    "            - acc: accumulator variable \n",
    "        \"\"\"\n",
    "        if x == 0: \n",
    "            return 0 \n",
    "        elif m == 0: \n",
    "            return 1 \n",
    "        else: \n",
    "            if odd(m): \n",
    "                # We accumulate the result in acc instead of keeping in the heap \n",
    "                return helper(x, m-1, acc*x) \n",
    "            else: \n",
    "                # half power by hald, and accumulate! \n",
    "                return helper(x, m/2, acc*acc) \n",
    "            \n",
    "    return helper(x, m, 1) "
   ]
  },
  {
   "cell_type": "code",
   "execution_count": 23,
   "metadata": {},
   "outputs": [
    {
     "data": {
      "text/plain": [
       "256"
      ]
     },
     "execution_count": 23,
     "metadata": {},
     "output_type": "execute_result"
    }
   ],
   "source": [
    "exp(2,4)"
   ]
  },
  {
   "cell_type": "code",
   "execution_count": 24,
   "metadata": {},
   "outputs": [],
   "source": [
    "# extra fast! \n",
    "_ = rpe_exp(2,30)"
   ]
  },
  {
   "cell_type": "markdown",
   "metadata": {},
   "source": [
    "### Comparing times "
   ]
  },
  {
   "cell_type": "code",
   "execution_count": 25,
   "metadata": {},
   "outputs": [
    {
     "name": "stdout",
     "output_type": "stream",
     "text": [
      "exp took 3507996100 nanoseconds\n",
      "rpe_exp took 7000600 nanoseconds\n",
      "fast_rpe_exp took 0 nanoseconds\n"
     ]
    }
   ],
   "source": [
    "# Compare speeds \n",
    "t0 = time.time_ns()\n",
    "_ = exp(2,30) \n",
    "t1 = time.time_ns() \n",
    "print(\"exp took {} nanoseconds\".format(t1-t0)) \n",
    "\n",
    "# Compare speeds \n",
    "t0 = time.time_ns()\n",
    "_ = rpe_exp(2,30) \n",
    "t1 = time.time_ns() \n",
    "print(\"rpe_exp took {} nanoseconds\".format(t1-t0)) \n",
    "\n",
    "# Compare speeds \n",
    "t0 = time.time_ns()\n",
    "_ = fast_rpe_exp(2,30) \n",
    "t1 = time.time_ns() \n",
    "print(\"fast_rpe_exp took {} nanoseconds\".format(t1-t0)) "
   ]
  },
  {
   "cell_type": "markdown",
   "metadata": {},
   "source": [
    "Now that's a **huge** improvement!!! The tail-recursive rpe algorithm is so fast is almost instantaneous! Compare this to the naive implementation, and the plain rpe which already does much better, but not the best it can. "
   ]
  },
  {
   "cell_type": "markdown",
   "metadata": {},
   "source": [
    "## Some Python functions from functional programing"
   ]
  },
  {
   "cell_type": "markdown",
   "metadata": {},
   "source": [
    "Although Python is not inherently functional, it does provide a number of extremely useful functions that in fact have their origins in functional programming. Let's start! "
   ]
  },
  {
   "cell_type": "markdown",
   "metadata": {},
   "source": [
    "### `zip()`\n",
    "\n",
    "One thing we want to do is the following: given two lists, `l1` and `l2`, we would like to pair their elements in a new list. \n",
    "\n",
    "Ex. \n",
    "\n",
    "```python\n",
    "l1 = ['a','b','c']\n",
    "l2 = [1,2,3] \n",
    "zipped = zip(l1,l2)\n",
    "print(zipped) \n",
    "```\n",
    "```\n",
    "OUT: \n",
    "    [('a',1), ('b',2), ('c',3)]\n",
    "```"
   ]
  },
  {
   "cell_type": "markdown",
   "metadata": {},
   "source": [
    "This is useful because we can iterate through two lists of the same size at the same time! "
   ]
  },
  {
   "cell_type": "code",
   "execution_count": 26,
   "metadata": {},
   "outputs": [],
   "source": [
    "def zipper(l1,l2): \n",
    "    \"\"\"\n",
    "    Takes two lists of same lenght and returns a list of paired objects. \n",
    "    @args: \n",
    "        -l1, l2: two lists of same length\n",
    "    @returns: \n",
    "        - zipped: a list containing tuples of pairwise paired elements from l1 and l2\n",
    "    \"\"\"\n",
    "    assert len(l1) == len(l2) \n",
    "    return [(l1[i],l2[i]) for i in range(len(l1))]"
   ]
  },
  {
   "cell_type": "code",
   "execution_count": 27,
   "metadata": {},
   "outputs": [
    {
     "name": "stdout",
     "output_type": "stream",
     "text": [
      "zipped list:  [('a', 1), ('b', 2), ('c', 3)] \n",
      "\n",
      "letter:  a  num:  1\n",
      "letter:  b  num:  2\n",
      "letter:  c  num:  3\n",
      "\n",
      "letter:  a  num:  1\n",
      "letter:  b  num:  2\n",
      "letter:  c  num:  3\n"
     ]
    }
   ],
   "source": [
    "abc = [letter for letter in \"abc\"]  # list 1\n",
    "nums = [i+1 for i in range(len(abc))]  # list 2 \n",
    "paired = zipper(abc, nums) # zipped! \n",
    "\n",
    "print(\"zipped list: \", paired, \"\\n\")\n",
    "\n",
    "# We can iterate through both at the same time\n",
    "for tup in paired: \n",
    "    letter = tup[0] \n",
    "    num = tup[1] \n",
    "    print(\"letter: \", letter , \" num: \", num) \n",
    "    \n",
    "print(\"\")\n",
    "\n",
    "# We can iterate through both at the same time\n",
    "for tup in zipper(abc, nums): \n",
    "    letter = tup[0] \n",
    "    num = tup[1] \n",
    "    print(\"letter: \", letter , \" num: \", num) \n"
   ]
  },
  {
   "cell_type": "markdown",
   "metadata": {},
   "source": [
    "**Note:** In Python3,  `zip()` returns a **generator** object instead of a list, so if you want to get the elements out, you have to iterate through it! "
   ]
  },
  {
   "cell_type": "code",
   "execution_count": 28,
   "metadata": {},
   "outputs": [
    {
     "name": "stdout",
     "output_type": "stream",
     "text": [
      "letter:  a  num:  1\n",
      "letter:  b  num:  2\n",
      "letter:  c  num:  3\n",
      "zipped list:  [('a', 1), ('b', 2), ('c', 3)] \n",
      "\n"
     ]
    }
   ],
   "source": [
    "# We can iterate through both at the same time\n",
    "for tup in zip(abc, nums): \n",
    "    letter = tup[0] \n",
    "    num = tup[1] \n",
    "    print(\"letter: \", letter , \" num: \", num) \n",
    "    \n",
    "# extract all elements in a list comprehension\n",
    "zipped_list = [elem for elem in zip(abc,nums)]\n",
    "print(\"zipped list: \", zipped_list, \"\\n\")"
   ]
  },
  {
   "cell_type": "markdown",
   "metadata": {},
   "source": [
    "### `map()`\n",
    "\n",
    "What if we want to apply a function to every element in a list? The map function is precisely what you need. "
   ]
  },
  {
   "cell_type": "code",
   "execution_count": 29,
   "metadata": {},
   "outputs": [],
   "source": [
    "def mapper(fun, l:list): \n",
    "    \"\"\"\n",
    "    Applies a function to every element in the list \n",
    "    \"\"\"\n",
    "    return [fun(elem) for elem in l] "
   ]
  },
  {
   "cell_type": "markdown",
   "metadata": {},
   "source": [
    "Can we do this without a loop? The magic of functional programming arises! "
   ]
  },
  {
   "cell_type": "code",
   "execution_count": 32,
   "metadata": {},
   "outputs": [],
   "source": [
    "def mapper(fun, l:list): \n",
    "    \"\"\"\n",
    "    Functional programming version without loops\n",
    "    \"\"\"\n",
    "    if len(l) == 0: \n",
    "        return [] \n",
    "    else: \n",
    "        f_x = fun(l.pop()) # pop element from list and apply fun\n",
    "        return  mapper(fun, l) + [f_x] # append to the end, recurse on the rest"
   ]
  },
  {
   "cell_type": "markdown",
   "metadata": {},
   "source": [
    "The idea is as follows: if we have an empty list, nothing to recurse on. Else, we pop the last element of the list in O(1) time, then append it to whatever the recursion on the end of the list gives."
   ]
  },
  {
   "cell_type": "code",
   "execution_count": 33,
   "metadata": {},
   "outputs": [
    {
     "name": "stdout",
     "output_type": "stream",
     "text": [
      "list1:  [2, 4, 6, 8, 10]\n",
      "squared list:  [4, 16, 36, 64, 100]\n"
     ]
    }
   ],
   "source": [
    "square = lambda x: x**2\n",
    "list1 = [2,4,6,8,10] \n",
    "print(\"list1: \", list1)\n",
    "print(\"squared list: \", mapper(square, list1))"
   ]
  },
  {
   "cell_type": "markdown",
   "metadata": {},
   "source": [
    "Once again, the actual `map()` built-in function returns a generator: "
   ]
  },
  {
   "cell_type": "code",
   "execution_count": null,
   "metadata": {},
   "outputs": [],
   "source": [
    "squared = [x for x in map(square, list1)]\n",
    "print(squared)"
   ]
  },
  {
   "cell_type": "markdown",
   "metadata": {},
   "source": [
    "### `any()`,  `all()` and `filter()`"
   ]
  },
  {
   "cell_type": "code",
   "execution_count": null,
   "metadata": {},
   "outputs": [],
   "source": [
    "def filter_fun(test, l:list): \n",
    "    \"\"\"\n",
    "    @args: \n",
    "        - test: a function returning a boolean output\n",
    "        - l: a list \n",
    "    @returns: \n",
    "        - filtered list of elements \n",
    "    \"\"\"\n",
    "    return [elem for elem in l if test(elem)] "
   ]
  },
  {
   "cell_type": "markdown",
   "metadata": {},
   "source": [
    "- `any` takes an iterable and returns True if any element is True. \n",
    "- `all` takes an iterable and returns True if all elements are True. \n",
    "- `filter_fun()` as argument a boolean function and a list, and returns a list containing all elements from the input list that passed the input test. \n",
    "\n",
    "We can map a boolean function and then `any()` or `all()`. "
   ]
  },
  {
   "cell_type": "code",
   "execution_count": null,
   "metadata": {},
   "outputs": [],
   "source": [
    "# lists to test on \n",
    "list1 = [\"a\",\"aa\",\"sss\",\"very_long_string\",''] \n",
    "list2 = [\"a\",\"aa\",\"sss\",\"very_long_string\"] \n",
    "\n",
    "# test functions\n",
    "is_long_str = lambda s: len(s) > 5\n",
    "\n",
    "# ex1. check if any string in list1 has more than 5 characters \n",
    "is_long_mapped = [elem for elem in map(is_long_str, list1)] \n",
    "print(\"is_long_mapped: \", is_long_mapped) # this is also called a mask!  \n",
    "print(\"any(is_long_mapped): \", any(is_long_mapped) )\n",
    "print(\"all(is_long_mapped): \", all(is_long_mapped) )"
   ]
  },
  {
   "cell_type": "code",
   "execution_count": null,
   "metadata": {},
   "outputs": [],
   "source": [
    "# variable\n",
    "nums = [1,2,3,4,5,6,6,7,8,8,9] \n",
    "\n",
    "# test function\n",
    "even = lambda x: x % 2 == 0\n",
    "\n",
    "# our implementation\n",
    "print(\"nums: \", nums)\n",
    "print(\"even numbers: \", filter_fun(even, nums) )\n",
    "\n",
    "# Python built-in \n",
    "print(\"even numbers: \", [x for x in filter(even, nums)])"
   ]
  },
  {
   "cell_type": "markdown",
   "metadata": {},
   "source": [
    "## Fold-left\n",
    "\n",
    "Here's an interesting one: `fold_left()` is an inherently functional programming function, defined as follows: let $f()$ be some function that takes one parameter; let $[x_{1}, x_{2}, \\dots, x_{n}]$ be a list; and let $a$ be an accumulator parameter. Then \n",
    "\n",
    "$$\n",
    "\\text{fold_left} (f,\\; a,\\; [x_{1}, x_{2}, \\dots, x_{n}]) =   f( \\dots f(f(a, x_{1}), x_{2}), \\dots x_{n})\n",
    "$$\n",
    "\n",
    "That is, we first apply the function $f$ to the first element, then take that and pass it as an input to the next one, and so on until we have gone through every item in the list. In a functional programming language, this would be a good implementation: "
   ]
  },
  {
   "cell_type": "code",
   "execution_count": null,
   "metadata": {},
   "outputs": [],
   "source": [
    "# Note: the function below is pretty slow since slicing is actually costly. \n",
    "def fold_left(fun, acc, l:list): \n",
    "    \"\"\"\n",
    "    @args: \n",
    "        - fun: lambda x, y = fun(x,y)  \n",
    "    @returns: \n",
    "        - fold_left f acc [x1,x2,...,xn] = (f (f (f a x1) x2) ... xn)\n",
    "    \"\"\"\n",
    "    if len(l)==0: \n",
    "        return acc \n",
    "    else: \n",
    "        x = l[0] \n",
    "        return fold_left(fun, fun(acc, x), l[1:])"
   ]
  },
  {
   "cell_type": "markdown",
   "metadata": {},
   "source": [
    "You can see that this simply mimics the definition. The problem here lies in that Python lists are implemented as arrays, so the slicing operation is actually costly. If these were linked lists, however, the running time would be $O(n)$! A more pythonic way to do it is the following: "
   ]
  },
  {
   "cell_type": "code",
   "execution_count": null,
   "metadata": {},
   "outputs": [],
   "source": [
    "# a more pythonic way: \n",
    "def fold_left2(fun, acc, l:list): \n",
    "    \"\"\"\n",
    "    @args: \n",
    "        - fun: lambda x, y = fun(x,y)  \n",
    "    @returns: \n",
    "        - fold_left f acc [x1,x2,...,xn] = (f (f (f a x1) x2) ... xn)\n",
    "    \"\"\"\n",
    "    [acc := fun(acc, x) for x in l] \n",
    "    return acc"
   ]
  },
  {
   "cell_type": "markdown",
   "metadata": {},
   "source": [
    "Here, the `:=` syntax is the assignment operator, which dynamically changes the value of `acc`. We can then, for instance, obtain the sum of all entries in a list as using `fold_left` as follows: "
   ]
  },
  {
   "cell_type": "code",
   "execution_count": null,
   "metadata": {},
   "outputs": [],
   "source": [
    "### TESTS ### \n",
    "add = lambda x,y: x + y  # simple function adding two numbers \n",
    "list5 = [1,2,3,4,5] \n",
    "list6 = [\"Hello\",\" \",\"World\",\"!\"]\n",
    "print(fold_left(add, 0, list5)) # 15 \n",
    "print(fold_left2(add, 0, list5)) # 15 \n",
    "print(fold_left2(add, \"\", list6)) # Hello World! \n",
    "### TESTS ### "
   ]
  },
  {
   "cell_type": "markdown",
   "metadata": {},
   "source": [
    "## Streams\n",
    "\n",
    "A stream, also more commonly known as a **generator**, is essentially a finite or possibly infinite list, from which we can only get **one element at the time**. \n",
    "- Streams are definitions, and therefore they are not completely saved in memory. \n",
    "- In Python, we use the keyword `yield`, instead of `return` to return some results before continuing code execution. \n",
    "- In a sense, the code \"is stopped in time\" until the next call. \n",
    "- To obtain the next element in a stream once it has been created, use the keyword `next`. \n",
    "- If we reach the end of the stream, the `Stop iteration error` is raised. \n",
    "\n",
    "Let's create a function that converts a list into a stream (`generator`) object: "
   ]
  },
  {
   "cell_type": "markdown",
   "metadata": {},
   "source": [
    "### List to stream"
   ]
  },
  {
   "cell_type": "code",
   "execution_count": null,
   "metadata": {},
   "outputs": [],
   "source": [
    "def to_stream(l:list): \n",
    "    for elem in l: \n",
    "        yield elem "
   ]
  },
  {
   "cell_type": "code",
   "execution_count": null,
   "metadata": {},
   "outputs": [],
   "source": [
    "### TEST ### \n",
    "list1 = [1,2,3]\n",
    "s1 = to_stream(list1)\n",
    "s1"
   ]
  },
  {
   "cell_type": "markdown",
   "metadata": {},
   "source": [
    "Note that we cannot simply print the stream like that, instead, we use `next()` to `yield` the next object! "
   ]
  },
  {
   "cell_type": "code",
   "execution_count": null,
   "metadata": {},
   "outputs": [],
   "source": [
    "print(next(s1)) # 1\n",
    "print(next(s1)) # 2 \n",
    "print(next(s1)) # 3 \n",
    "print(next(s1)) # Stop iteration error"
   ]
  },
  {
   "cell_type": "markdown",
   "metadata": {},
   "source": [
    "### Stream of ones\n",
    "\n",
    "Can we produce an infinite list of ones?  Yes we can! "
   ]
  },
  {
   "cell_type": "code",
   "execution_count": null,
   "metadata": {},
   "outputs": [],
   "source": [
    "def ones_gen(): \n",
    "    \"\"\"\n",
    "    Produces an infinite stream of ones\n",
    "    \"\"\"\n",
    "    while True: \n",
    "        yield 1 "
   ]
  },
  {
   "cell_type": "code",
   "execution_count": null,
   "metadata": {},
   "outputs": [],
   "source": [
    "ones = ones_gen() # initialize generator\n",
    "ones_list = [next(ones) for i in range(10)] # generate 10 ones\n",
    "ones_list2 = [next(ones) for i in range(20)] # generate 20 ones\n",
    "ones_list3 = [next(ones) for i in range(1000)] # generate 10 ones\n",
    "print(ones_list)\n",
    "print(ones_list2)\n",
    "print(len(ones_list3))"
   ]
  },
  {
   "cell_type": "markdown",
   "metadata": {},
   "source": [
    "### Numbers starting from n\n",
    "\n",
    "Somrthing more interesting: all numbers starting from `n`"
   ]
  },
  {
   "cell_type": "code",
   "execution_count": null,
   "metadata": {},
   "outputs": [],
   "source": [
    "def nums_from_n_gen(n:int): \n",
    "    \"\"\"\n",
    "    Produces stream of numbers from n \n",
    "    \"\"\"\n",
    "    while True: \n",
    "        yield n \n",
    "        n += 1  "
   ]
  },
  {
   "cell_type": "code",
   "execution_count": null,
   "metadata": {},
   "outputs": [],
   "source": [
    "nums_12 = nums_from_n_gen(12)  # all numbers from 12\n",
    "nums_12_list = [next(nums_12) for i in range(20)]  # print first 20 in list\n",
    "print(nums_12_list)"
   ]
  },
  {
   "cell_type": "markdown",
   "metadata": {},
   "source": [
    "So, producing the **entire set of natural numbers** never was easier! "
   ]
  },
  {
   "cell_type": "code",
   "execution_count": null,
   "metadata": {},
   "outputs": [],
   "source": [
    "nats = nums_from_n_gen(0)\n",
    "print([next(nats) for i in range(100)])"
   ]
  },
  {
   "cell_type": "markdown",
   "metadata": {},
   "source": [
    "### All fibonacci numbers"
   ]
  },
  {
   "cell_type": "code",
   "execution_count": null,
   "metadata": {},
   "outputs": [],
   "source": [
    "def fib_stream(): \n",
    "    \"\"\"\n",
    "    Generates an infinite stream of fibonacci numbers \n",
    "    \"\"\"\n",
    "    a = 0 \n",
    "    b = 1 \n",
    "    yield a \n",
    "    while True: \n",
    "        yield b\n",
    "        a, b = b, (a+b)"
   ]
  },
  {
   "cell_type": "code",
   "execution_count": null,
   "metadata": {},
   "outputs": [],
   "source": [
    "fibs = fib_stream()  # initialize stream \n",
    "fibnums = [next(fibs) for i in range(20)] # create a sample list  \n",
    "print(fibnums)"
   ]
  },
  {
   "cell_type": "markdown",
   "metadata": {},
   "source": [
    "And producing these runs in linear time!! "
   ]
  },
  {
   "cell_type": "markdown",
   "metadata": {},
   "source": [
    "### Map for streams\n",
    "\n",
    "We can go funkier and even come up with a `map()` function for streams; that is, we can apply a function to **every element** of an infinite list. Isn't that cool??? \n",
    "The idea is simple: the map takes as inputs the function to apply and the stream. At each call, we apply the function by obtaining the next element from the stream and yielding the result. Of course, the result is also a stream. "
   ]
  },
  {
   "cell_type": "code",
   "execution_count": null,
   "metadata": {},
   "outputs": [],
   "source": [
    "def stream_map(fun, stream): \n",
    "    \"\"\"\n",
    "    map function applied to streams \n",
    "    \"\"\"\n",
    "    assert inspect.isgenerator(stream) \n",
    "\n",
    "    while True: \n",
    "        yield fun(next(stream))"
   ]
  },
  {
   "cell_type": "code",
   "execution_count": null,
   "metadata": {},
   "outputs": [],
   "source": [
    "square = lambda x: x**2  \n",
    "fibs = fib_stream()  # initialize fibonacci stream from 0\n",
    "fibs_sq_gen = stream_map(square, fibs) # apply the square function to this stream\n",
    "fibs_sq = [next(fibs_sq_gen) for i in range(10)] # fib nums are squared here! \n",
    "print(fibs_sq)"
   ]
  }
 ],
 "metadata": {
  "kernelspec": {
   "display_name": "Python 3",
   "language": "python",
   "name": "python3"
  },
  "language_info": {
   "codemirror_mode": {
    "name": "ipython",
    "version": 3
   },
   "file_extension": ".py",
   "mimetype": "text/x-python",
   "name": "python",
   "nbconvert_exporter": "python",
   "pygments_lexer": "ipython3",
   "version": "3.8.5"
  }
 },
 "nbformat": 4,
 "nbformat_minor": 4
}
